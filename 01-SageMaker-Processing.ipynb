{
 "cells": [
  {
   "cell_type": "markdown",
   "source": [
    "# Probabilistic Forecasting - Electricity\n",
    "\n",
    "This notebook demonstrates how to perform Data Analysis and Preparation Engineering with Amazon SageMaker Studio using AWS Glue Interactive Session.\n",
    "\n",
    "Using this notebook, we can execute cells in order to read data, visualize, and perform transformations using PySpark with AWS Glue Interactice Session.\n",
    "\n",
    "Let's start preparing our dataset.\n",
    "\n",
    "**SageMaker Studio Kernel**: DataScience 3.0 - Python3"
   ],
   "metadata": {
    "collapsed": false
   }
  },
  {
   "cell_type": "markdown",
   "source": [
    "***"
   ],
   "metadata": {
    "collapsed": false
   }
  },
  {
   "cell_type": "markdown",
   "source": [
    "# Dataset\n",
    "\n",
    "The data set (Electricity Price Forecasting) was downloaded from [Kaggle](https://www.kaggle.com/code/dimitriosroussis/electricity-price-forecasting-with-dnns-eda/data).\n",
    "\n",
    "This dataset is using the past values of the electricity price as well as those of another features related to energy generation and weather conditions"
   ],
   "metadata": {
    "collapsed": false
   }
  },
  {
   "cell_type": "markdown",
   "source": [
    "# Step 1 - Import Modules\n",
    "\n",
    "Here we’ll import some libraries and define some variables."
   ],
   "metadata": {
    "collapsed": false
   }
  },
  {
   "cell_type": "code",
   "execution_count": null,
   "outputs": [],
   "source": [
    "import boto3\n",
    "import sagemaker\n",
    "from sagemaker.processing import ProcessingInput, ProcessingOutput\n",
    "from sagemaker.spark.processing import PySparkProcessor"
   ],
   "metadata": {
    "collapsed": false,
    "ExecuteTime": {
     "start_time": "2023-07-31T18:06:32.226539Z",
     "end_time": "2023-07-31T18:06:32.246368Z"
    }
   }
  },
  {
   "cell_type": "code",
   "execution_count": null,
   "outputs": [],
   "source": [
    "sagemaker_client = boto3.client(\"sagemaker\")\n",
    "s3_client = boto3.client(\"s3\")"
   ],
   "metadata": {
    "collapsed": false,
    "ExecuteTime": {
     "start_time": "2023-07-31T18:06:32.532323Z",
     "end_time": "2023-07-31T18:06:32.729496Z"
    }
   }
  },
  {
   "cell_type": "markdown",
   "source": [
    "Create a SageMaker Session and save the default region and the execution role in some Python variables"
   ],
   "metadata": {
    "collapsed": false
   }
  },
  {
   "cell_type": "code",
   "execution_count": null,
   "outputs": [],
   "source": [
    "sagemaker_session = sagemaker.Session()\n",
    "region = boto3.session.Session().region_name\n",
    "role = sagemaker.get_execution_role()"
   ],
   "metadata": {
    "collapsed": false,
    "ExecuteTime": {
     "start_time": "2023-07-31T18:06:44.859606Z",
     "end_time": "2023-07-31T18:06:44.906370Z"
    }
   }
  },
  {
   "cell_type": "code",
   "execution_count": null,
   "outputs": [],
   "source": [
    "bucket_name = sagemaker_session.default_bucket()"
   ],
   "metadata": {
    "collapsed": false,
    "ExecuteTime": {
     "start_time": "2023-07-31T18:06:45.218973Z",
     "end_time": "2023-07-31T18:06:45.740421Z"
    }
   }
  },
  {
   "cell_type": "markdown",
   "source": [
    "***"
   ],
   "metadata": {
    "collapsed": false
   }
  },
  {
   "cell_type": "markdown",
   "source": [
    "# Step 2 - Upload Python Scripts"
   ],
   "metadata": {
    "collapsed": false
   }
  },
  {
   "cell_type": "code",
   "execution_count": null,
   "outputs": [],
   "source": [
    "script_location = \"electricity-forecasting/code/processing\""
   ],
   "metadata": {
    "collapsed": false,
    "ExecuteTime": {
     "start_time": "2023-07-31T18:06:46.865723Z",
     "end_time": "2023-07-31T18:06:46.876075Z"
    }
   }
  },
  {
   "cell_type": "code",
   "execution_count": null,
   "outputs": [],
   "source": [
    "# Download the\n",
    "# clean the buckets first\n",
    "s3_client.delete_object(Bucket=bucket_name, Key=script_location)\n",
    "\n",
    "code_path = sagemaker_session.upload_data('./code', key_prefix=script_location)\n",
    "\n",
    "code_path"
   ],
   "metadata": {
    "collapsed": false,
    "ExecuteTime": {
     "start_time": "2023-07-31T18:06:47.212277Z",
     "end_time": "2023-07-31T18:06:47.982388Z"
    }
   }
  },
  {
   "cell_type": "markdown",
   "source": [
    "***"
   ],
   "metadata": {
    "collapsed": false
   }
  },
  {
   "cell_type": "markdown",
   "source": [
    "# Step 2 - Run the processing job"
   ],
   "metadata": {
    "collapsed": false
   }
  },
  {
   "cell_type": "markdown",
   "source": [
    "By using [PySparkProcessor](https://sagemaker-examples.readthedocs.io/en/latest/sagemaker_processing/spark_distributed_data_processing/sagemaker-spark-processing.html), we can provide to the Amazon SageMaker Job the execution PySpark scripts in distributed data processing mode"
   ],
   "metadata": {
    "collapsed": false
   }
  },
  {
   "cell_type": "code",
   "execution_count": null,
   "outputs": [],
   "source": [
    "! pygmentize ./code/processing.py"
   ],
   "metadata": {
    "collapsed": false,
    "ExecuteTime": {
     "start_time": "2023-07-31T18:06:48.713274Z",
     "end_time": "2023-07-31T18:06:49.358745Z"
    }
   }
  },
  {
   "cell_type": "markdown",
   "source": [
    "## Global Parameters\n",
    "\n",
    "In order to allow users to execute the SageMaker Processing Job locally, we are defining the variable `local_mode`. If you want to test the local mode capability, please put the variable to `True`"
   ],
   "metadata": {
    "collapsed": false
   }
  },
  {
   "cell_type": "code",
   "execution_count": null,
   "outputs": [],
   "source": [
    "processing_framework_version = \"3.3\"\n",
    "processing_container_version = \"1.2\"\n",
    "processing_python_version = \"py39\"\n",
    "processing_code = \"electricity-forecasting/code/processing\"\n",
    "processing_input_files_path = \"electricity-forecasting/data/sharded\"\n",
    "processing_output_files_path = \"electricity-forecasting/data/output\"\n",
    "\n",
    "processing_instance_count = 2\n",
    "processing_instance_type = \"ml.m5.12xlarge\"\n",
    "\n",
    "spark_configurations = [\n",
    "    {\n",
    "        \"Classification\":\"spark-defaults\",\n",
    "        \"Properties\":{\n",
    "            \"spark.executor.cores\": 5,\n",
    "            \"spark.driver.cores\": 5,\n",
    "            \"spark.executor.memory\": \"35g\",\n",
    "            \"spark.executor.memoryOverhead\": \"3g\",\n",
    "            \"spark.driver.memory\": \"35g\",\n",
    "            \"spark.executor.instances\": 17,\n",
    "            \"spark.sql.parquet.fs.optimized.comitter.optimization-enabled\": True\n",
    "        }\n",
    "    }\n",
    "]"
   ],
   "metadata": {
    "collapsed": false,
    "ExecuteTime": {
     "start_time": "2023-07-31T18:07:31.508568Z",
     "end_time": "2023-07-31T18:07:31.511122Z"
    }
   }
  },
  {
   "cell_type": "markdown",
   "source": [
    "Define the `PySparkProcessor` object.\n",
    "\n",
    "### Update:\n",
    "\n",
    "From the container version `sagemaker-spark-processing:3.3-cpu-py39-v1.2`, SageMaker Spark Containers are providing an automated optimized Spark configuration. For using it, provide the environment variable `AWS_SPARK_CONFIG_MODE = \"2\"`\n",
    "\n",
    "```\n",
    "env={\n",
    "    \"AWS_SPARK_CONFIG_MODE\": \"2\"\n",
    "}\n",
    "```"
   ],
   "metadata": {
    "collapsed": false
   }
  },
  {
   "cell_type": "code",
   "execution_count": null,
   "outputs": [],
   "source": [
    "processor = PySparkProcessor(\n",
    "    framework_version=processing_framework_version,\n",
    "    container_version=processing_container_version,\n",
    "    py_version=processing_python_version,\n",
    "    role=role,\n",
    "    instance_count=processing_instance_count,\n",
    "    instance_type=processing_instance_type,\n",
    "    sagemaker_session=sagemaker_session,\n",
    "    env={\n",
    "        \"AWS_SPARK_CONFIG_MODE\": \"2\"\n",
    "    }\n",
    ")\n"
   ],
   "metadata": {
    "collapsed": false,
    "ExecuteTime": {
     "start_time": "2023-07-31T18:07:32.675318Z",
     "end_time": "2023-07-31T18:07:32.700863Z"
    }
   }
  },
  {
   "cell_type": "code",
   "execution_count": null,
   "outputs": [],
   "source": [
    "processor.run(\n",
    "    \"./code/processing.py\",\n",
    "    inputs=[\n",
    "        ProcessingInput(\n",
    "            input_name=\"input\",\n",
    "            source=\"s3://{}/{}/\".format(bucket_name, processing_input_files_path),\n",
    "            s3_data_distribution_type=\"ShardedByS3Key\",\n",
    "            destination=\"/opt/ml/processing/input\"\n",
    "        ),\n",
    "        ProcessingInput(\n",
    "            input_name=\"scripts\",\n",
    "            source=\"s3://{}/{}\".format(bucket_name, processing_code),\n",
    "            destination=\"/opt/ml/processing/input/code/scripts\"\n",
    "        )\n",
    "    ],\n",
    "    outputs=[\n",
    "        ProcessingOutput(\n",
    "            output_name=\"output\",\n",
    "            source=\"/opt/ml/processing/output\",\n",
    "            destination=\"s3://{}/{}\".format(bucket_name, processing_output_files_path))\n",
    "    ],\n",
    "    #configuration=spark_configurations,\n",
    "    spark_event_logs_s3_uri=\"s3://{}/electricity-forecasting/logs\".format(bucket_name),\n",
    "    wait=True\n",
    ")"
   ],
   "metadata": {
    "collapsed": false,
    "ExecuteTime": {
     "start_time": "2023-05-05T20:48:01.820519Z",
     "end_time": "2023-05-05T21:07:53.188881Z"
    }
   }
  }
 ],
 "metadata": {
  "kernelspec": {
   "display_name": "Python 3",
   "language": "python",
   "name": "python3"
  },
  "language_info": {
   "codemirror_mode": {
    "name": "ipython",
    "version": 2
   },
   "file_extension": ".py",
   "mimetype": "text/x-python",
   "name": "python",
   "nbconvert_exporter": "python",
   "pygments_lexer": "ipython2",
   "version": "2.7.6"
  }
 },
 "nbformat": 4,
 "nbformat_minor": 0
}
